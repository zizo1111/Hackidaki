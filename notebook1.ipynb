{
 "cells": [
  {
   "cell_type": "code",
   "execution_count": 2,
   "metadata": {},
   "outputs": [
    {
     "name": "stdout",
     "output_type": "stream",
     "text": [
      "{'toxicity': [0.11231119185686111, 0.997062623500824, 0.0006275926134549081, 0.0009915964910760522, 0.0006123479688540101, 0.0005907031008973718, 0.0016177116194739938], 'severe_toxicity': [2.343481537536718e-05, 0.042512137442827225, 0.0031421787571161985, 0.004266706760972738, 0.0015480061993002892, 0.0028323072474449873, 0.00016768151544965804], 'obscene': [0.000569213880226016, 0.12289224565029144, 0.022164320573210716, 0.033336132764816284, 0.012159444391727448, 0.02132592536509037, 0.0025684235151857138], 'identity_attack': [0.00036554105463437736, 0.03625531122088432, 0.0034668962471187115, 0.005407961551100016, 0.001841293415054679, 0.0031340299174189568, 0.0003377817920409143], 'insult': [0.059247538447380066, 0.12222584336996078, 0.017626967281103134, 0.028724340721964836, 0.00940465647727251, 0.017865020781755447, 0.0015208792174234986], 'threat': [7.958295464050025e-05, 0.008535347878932953, 0.0014965820591896772, 0.001951053156517446, 0.0008580756257288158, 0.0013266779715195298, 0.0002994367096107453], 'sexual_explicit': [6.483306788140908e-05, 0.4247812032699585, 0.0006161756464280188, 0.0008334284648299217, 0.0003622716758400202, 0.000615882920101285, 0.00022999674547463655]}\n"
     ]
    }
   ],
   "source": [
    "from detoxify.detoxify.detoxify import Detoxify\n",
    "\n",
    "#results = Detoxify('original').predict('Who the fuck is this insignificant simple minded redneck? When he gets a vagina he can decide what he wants to do with it.')\n",
    "#print(results)\n",
    "#results = Detoxify('unbiased').predict([\"you are a very go\",\"Instagram refugees lmao, let's build a wall instead\"])\n",
    "#print(results)\n",
    "results = Detoxify('multilingual').predict(['you are','vaffanculo stronzo','texto de ejemplo','testo di esempio','texto de exemplo','örnek metin','Я хочу купить цветы'])\n",
    "# results = Detoxify('multilingual').predict(['example text','exemple de texte','texto de ejemplo','testo di esempio','texto de exemplo','örnek metin','пример текста'])\n",
    "print(results)\n",
    "# to specify the device the model will be allocated on (defaults to cpu), accepts any torch.device input\n",
    "\n",
    "# model = Detoxify('original', device='cuda')"
   ]
  },
  {
   "cell_type": "code",
   "execution_count": 16,
   "metadata": {},
   "outputs": [],
   "source": [
    "from src.censor_server.backend.text_extractor import TextExractor\n",
    "from detoxify.detoxify import Detoxify\n",
    "\n",
    "hate_predictor = Detoxify('unbiased')"
   ]
  },
  {
   "cell_type": "code",
   "execution_count": 17,
   "metadata": {},
   "outputs": [
    {
     "name": "stdout",
     "output_type": "stream",
     "text": [
      "Fenes Octavian Follow @FenesOctavian @femfreq You are a despicable whore :) 6.23 AM 20 Jan 2015\n"
     ]
    }
   ],
   "source": [
    "text_extractor = TextExractor()\n",
    "extracted_text = text_extractor.recognize_text('hate_examples/hate_example.png', True)\n",
    "print(extracted_text)"
   ]
  },
  {
   "cell_type": "code",
   "execution_count": 18,
   "metadata": {},
   "outputs": [
    {
     "name": "stdout",
     "output_type": "stream",
     "text": [
      "{'toxicity': 0.9922465, 'severe_toxicity': 0.049100745, 'obscene': 0.9200187, 'identity_attack': 0.025847487, 'insult': 0.8856076, 'threat': 0.0010051291, 'sexual_explicit': 0.046344306}\n"
     ]
    }
   ],
   "source": [
    "result = hate_predictor.predict(extracted_text)\n",
    "print(result)"
   ]
  }
 ],
 "metadata": {
  "kernelspec": {
   "display_name": "Python 3.8.10 ('hacki_venv')",
   "language": "python",
   "name": "python3"
  },
  "language_info": {
   "codemirror_mode": {
    "name": "ipython",
    "version": 3
   },
   "file_extension": ".py",
   "mimetype": "text/x-python",
   "name": "python",
   "nbconvert_exporter": "python",
   "pygments_lexer": "ipython3",
   "version": "3.8.10"
  },
  "orig_nbformat": 4,
  "vscode": {
   "interpreter": {
    "hash": "a3a321e388cdf1481a33104b0ec7f515abd7ce24d9f3acd5c3c24df074306808"
   }
  }
 },
 "nbformat": 4,
 "nbformat_minor": 2
}
